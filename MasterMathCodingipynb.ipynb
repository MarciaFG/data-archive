{
  "nbformat": 4,
  "nbformat_minor": 0,
  "metadata": {
    "colab": {
      "name": "MasterMathCodingipynb",
      "provenance": [],
      "authorship_tag": "ABX9TyMJrViUKo6Zq7wXw2BfJ16j",
      "include_colab_link": true
    },
    "kernelspec": {
      "name": "python3",
      "display_name": "Python 3"
    }
  },
  "cells": [
    {
      "cell_type": "markdown",
      "metadata": {
        "id": "view-in-github",
        "colab_type": "text"
      },
      "source": [
        "<a href=\"https://colab.research.google.com/github/MarciaFG/data-archive/blob/master/MasterMathCodingipynb.ipynb\" target=\"_parent\"><img src=\"https://colab.research.google.com/assets/colab-badge.svg\" alt=\"Open In Colab\"/></a>"
      ]
    },
    {
      "cell_type": "markdown",
      "metadata": {
        "id": "PvfO4597qlGm"
      },
      "source": [
        "# practical exercises of math implementation in python\n",
        "https://www.udemy.com/course/math-with-python/learn/lecture/16210266#overview"
      ]
    },
    {
      "cell_type": "code",
      "metadata": {
        "id": "EzROGsIQqsiD"
      },
      "source": [
        ""
      ],
      "execution_count": null,
      "outputs": []
    }
  ]
}