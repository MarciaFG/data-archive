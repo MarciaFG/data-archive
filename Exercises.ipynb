{
  "nbformat": 4,
  "nbformat_minor": 0,
  "metadata": {
    "colab": {
      "name": "Exercises.ipynb",
      "provenance": [],
      "collapsed_sections": [],
      "authorship_tag": "ABX9TyN1Cd5qWK3H5CBa/PeVtBxB",
      "include_colab_link": true
    },
    "kernelspec": {
      "name": "python3",
      "display_name": "Python 3"
    }
  },
  "cells": [
    {
      "cell_type": "markdown",
      "metadata": {
        "id": "view-in-github",
        "colab_type": "text"
      },
      "source": [
        "<a href=\"https://colab.research.google.com/github/MarciaFG/data-archive/blob/master/Exercises.ipynb\" target=\"_parent\"><img src=\"https://colab.research.google.com/assets/colab-badge.svg\" alt=\"Open In Colab\"/></a>"
      ]
    },
    {
      "cell_type": "markdown",
      "metadata": {
        "id": "Us6DTs9Dvbqn"
      },
      "source": [
        "## Simple Programming Problems \n",
        "https://adriann.github.io/programming_problems.html\n"
      ]
    },
    {
      "cell_type": "markdown",
      "metadata": {
        "id": "ICRED8GMvikn"
      },
      "source": [
        "# Elementary\n",
        "Write a program that prints ‘Hello World’ to the screen."
      ]
    },
    {
      "cell_type": "code",
      "metadata": {
        "id": "rdmG9P4qvl52",
        "outputId": "602ce020-bc93-4557-c1e7-7a4789739890",
        "colab": {
          "base_uri": "https://localhost:8080/",
          "height": 34
        }
      },
      "source": [
        "print(\"Hello World\")"
      ],
      "execution_count": null,
      "outputs": [
        {
          "output_type": "stream",
          "text": [
            "Hello World\n"
          ],
          "name": "stdout"
        }
      ]
    },
    {
      "cell_type": "markdown",
      "metadata": {
        "id": "QGjIiuQFvvb1"
      },
      "source": [
        "Write a program that asks the user for their name and greets them with their name."
      ]
    },
    {
      "cell_type": "code",
      "metadata": {
        "id": "XaoK1P9wvxD2",
        "outputId": "3aa49f5c-f83b-4807-b51d-f670ebf2254a",
        "colab": {
          "base_uri": "https://localhost:8080/",
          "height": 51
        }
      },
      "source": [
        "Name = input('What is your name? ')\n",
        "print('Nice to meet you, ' + Name + \"!\")"
      ],
      "execution_count": null,
      "outputs": [
        {
          "output_type": "stream",
          "text": [
            "What is your name? Marcia\n",
            "Nice to meet you, Marcia!\n"
          ],
          "name": "stdout"
        }
      ]
    },
    {
      "cell_type": "markdown",
      "metadata": {
        "id": "QIfBmOe8yMyd"
      },
      "source": [
        "Modify the previous program such that only the users Alice and Bob are greeted with their names.\n"
      ]
    },
    {
      "cell_type": "code",
      "metadata": {
        "id": "_MioSE4LyNkw",
        "outputId": "5289b5db-67bf-488d-9ed3-be22621710d3",
        "colab": {
          "base_uri": "https://localhost:8080/",
          "height": 51
        }
      },
      "source": [
        "Name = input('What is your name? ')\n",
        "if (Name == \"Vito\" or Name==\"Niklas\") :\n",
        "    print (\"Hail, Lord \" + Name + \"!\")\n",
        "else:\n",
        "    print (\"You must be William!\")\n"
      ],
      "execution_count": null,
      "outputs": [
        {
          "output_type": "stream",
          "text": [
            "What is your name? Vito\n",
            "Hail, Lord Vito!\n"
          ],
          "name": "stdout"
        }
      ]
    },
    {
      "cell_type": "markdown",
      "metadata": {
        "id": "p6T9OSre4YjZ"
      },
      "source": [
        "Write a program that asks the user for a number n and prints the sum of the numbers 1 to n\n"
      ]
    },
    {
      "cell_type": "code",
      "metadata": {
        "id": "IYc2eyzt3wyZ",
        "outputId": "e0a33f00-db33-4a2d-f7f5-59b8247f3440",
        "colab": {
          "base_uri": "https://localhost:8080/",
          "height": 51
        }
      },
      "source": [
        "n = int(input('Enter a number: '))\n",
        "sum = 0\n",
        "for i in range(1, n + 1):\n",
        "  sum = sum + i\n",
        "print(sum)"
      ],
      "execution_count": null,
      "outputs": [
        {
          "output_type": "stream",
          "text": [
            "Enter a number: 2\n",
            "3\n"
          ],
          "name": "stdout"
        }
      ]
    },
    {
      "cell_type": "markdown",
      "metadata": {
        "id": "p8UzItVf1yv5"
      },
      "source": [
        "Modify the previous program such that only multiples of three or five are considered in the sum, e.g. 3, 5, 6, 9, 10, 12, 15 for n=17\n"
      ]
    },
    {
      "cell_type": "code",
      "metadata": {
        "id": "QDJPVk0b11JR",
        "outputId": "430c2bf7-aa4f-4724-a04f-2c6de100d08d",
        "colab": {
          "base_uri": "https://localhost:8080/",
          "height": 85
        }
      },
      "source": [
        "n = int(input('Enter a number: '))\n",
        "sum = 0\n",
        "for i in range(1, n + 1):\n",
        "    if i % 3 == 0:\n",
        "        sum = sum + i\n",
        "    elif i % 5 == 0:\n",
        "        sum = sum + i\n",
        "print(sum)"
      ],
      "execution_count": null,
      "outputs": [
        {
          "output_type": "stream",
          "text": [
            "Enter a number: 5\n",
            "8\n",
            "Enter a number: 1\n",
            "0\n"
          ],
          "name": "stdout"
        }
      ]
    },
    {
      "cell_type": "markdown",
      "metadata": {
        "id": "iQ_HfbzdEjnk"
      },
      "source": [
        "Write a program that asks the user for a number n and gives them the possibility to choose between computing the sum and computing the product of 1,…,n.\n"
      ]
    },
    {
      "cell_type": "code",
      "metadata": {
        "id": "avg8jTPhEovN",
        "outputId": "7c1c69d4-a648-4c0a-e60b-2c70de8832c0",
        "colab": {
          "base_uri": "https://localhost:8080/",
          "height": 68
        }
      },
      "source": [
        "n = int(input(\"Enter a number \")) \n",
        "choice = int(input(\"Enter 1 for product until n or Enter 2 for sum until n \")) \n",
        " \n",
        "def sum(n): \n",
        "\tsumN = 0 \n",
        "\tfor i in range(n): \n",
        "\t\tsumN+=i+1 \n",
        "\treturn sumN \n",
        " \n",
        " \n",
        "def product(n): \n",
        "\tproductN=1 \n",
        "\tfor i in range(n): \n",
        "\t\tproductN*=(i+1) \n",
        "\treturn productN \n",
        "if(choice==1): \n",
        "\tprint(sum(n)) \n",
        "elif(choice==2): \n",
        "\tprint(product(n)) "
      ],
      "execution_count": null,
      "outputs": [
        {
          "output_type": "stream",
          "text": [
            "Enter a number 5\n",
            "Enter 1 for product until n or Enter 2 for sum until n 1\n",
            "15\n"
          ],
          "name": "stdout"
        }
      ]
    },
    {
      "cell_type": "markdown",
      "metadata": {
        "id": "AQVHPSvtLyXQ"
      },
      "source": [
        "Write a program that prints a multiplication table for numbers up to 12."
      ]
    },
    {
      "cell_type": "code",
      "metadata": {
        "id": "liR9MaiSLzKX",
        "outputId": "d310603f-d7bb-4aef-d067-6275e5a6340c",
        "colab": {
          "base_uri": "https://localhost:8080/",
          "height": 204
        }
      },
      "source": [
        "n = int(input(\"Enter a number up to 12: \"))\n",
        "for i in range(1, 11):\n",
        "   print(n, 'x', i, '=', n*i)"
      ],
      "execution_count": null,
      "outputs": [
        {
          "output_type": "stream",
          "text": [
            "Enter a number up to 12: 6\n",
            "6 x 1 = 6\n",
            "6 x 2 = 12\n",
            "6 x 3 = 18\n",
            "6 x 4 = 24\n",
            "6 x 5 = 30\n",
            "6 x 6 = 36\n",
            "6 x 7 = 42\n",
            "6 x 8 = 48\n",
            "6 x 9 = 54\n",
            "6 x 10 = 60\n"
          ],
          "name": "stdout"
        }
      ]
    },
    {
      "cell_type": "markdown",
      "metadata": {
        "id": "MJ5Jen9zMh8w"
      },
      "source": [
        "Write a program that prints all prime numbers. (Note: if your programming language does not support arbitrary size numbers, printing all primes up to the largest number you can easily represent is fine too.)\n"
      ]
    },
    {
      "cell_type": "code",
      "metadata": {
        "id": "6vQFCoTcMkgH",
        "outputId": "d43e5553-5fc6-49e4-8d50-ac630ee21108",
        "colab": {
          "base_uri": "https://localhost:8080/",
          "height": 1000
        }
      },
      "source": [
        "lower = 1\n",
        "upper = 1000\n",
        "\n",
        "print(\"Prime numbers between\", lower, \"and\", upper, \"are:\")\n",
        "\n",
        "for num in range(lower, upper + 1):\n",
        "   if num > 1:\n",
        "       for i in range(2, num):\n",
        "           if (num % i) == 0:\n",
        "               break\n",
        "       else:\n",
        "           print(num)"
      ],
      "execution_count": null,
      "outputs": [
        {
          "output_type": "stream",
          "text": [
            "Prime numbers between 1 and 1000 are:\n",
            "2\n",
            "3\n",
            "5\n",
            "7\n",
            "11\n",
            "13\n",
            "17\n",
            "19\n",
            "23\n",
            "29\n",
            "31\n",
            "37\n",
            "41\n",
            "43\n",
            "47\n",
            "53\n",
            "59\n",
            "61\n",
            "67\n",
            "71\n",
            "73\n",
            "79\n",
            "83\n",
            "89\n",
            "97\n",
            "101\n",
            "103\n",
            "107\n",
            "109\n",
            "113\n",
            "127\n",
            "131\n",
            "137\n",
            "139\n",
            "149\n",
            "151\n",
            "157\n",
            "163\n",
            "167\n",
            "173\n",
            "179\n",
            "181\n",
            "191\n",
            "193\n",
            "197\n",
            "199\n",
            "211\n",
            "223\n",
            "227\n",
            "229\n",
            "233\n",
            "239\n",
            "241\n",
            "251\n",
            "257\n",
            "263\n",
            "269\n",
            "271\n",
            "277\n",
            "281\n",
            "283\n",
            "293\n",
            "307\n",
            "311\n",
            "313\n",
            "317\n",
            "331\n",
            "337\n",
            "347\n",
            "349\n",
            "353\n",
            "359\n",
            "367\n",
            "373\n",
            "379\n",
            "383\n",
            "389\n",
            "397\n",
            "401\n",
            "409\n",
            "419\n",
            "421\n",
            "431\n",
            "433\n",
            "439\n",
            "443\n",
            "449\n",
            "457\n",
            "461\n",
            "463\n",
            "467\n",
            "479\n",
            "487\n",
            "491\n",
            "499\n",
            "503\n",
            "509\n",
            "521\n",
            "523\n",
            "541\n",
            "547\n",
            "557\n",
            "563\n",
            "569\n",
            "571\n",
            "577\n",
            "587\n",
            "593\n",
            "599\n",
            "601\n",
            "607\n",
            "613\n",
            "617\n",
            "619\n",
            "631\n",
            "641\n",
            "643\n",
            "647\n",
            "653\n",
            "659\n",
            "661\n",
            "673\n",
            "677\n",
            "683\n",
            "691\n",
            "701\n",
            "709\n",
            "719\n",
            "727\n",
            "733\n",
            "739\n",
            "743\n",
            "751\n",
            "757\n",
            "761\n",
            "769\n",
            "773\n",
            "787\n",
            "797\n",
            "809\n",
            "811\n",
            "821\n",
            "823\n",
            "827\n",
            "829\n",
            "839\n",
            "853\n",
            "857\n",
            "859\n",
            "863\n",
            "877\n",
            "881\n",
            "883\n",
            "887\n",
            "907\n",
            "911\n",
            "919\n",
            "929\n",
            "937\n",
            "941\n",
            "947\n",
            "953\n",
            "967\n",
            "971\n",
            "977\n",
            "983\n",
            "991\n",
            "997\n"
          ],
          "name": "stdout"
        }
      ]
    },
    {
      "cell_type": "markdown",
      "metadata": {
        "id": "Pjy5R4JCQ-YM"
      },
      "source": [
        "Write a guessing game where the user has to guess a secret number. After every guess the program tells the user whether their number was too large or too small. At the end the number of tries needed should be printed. It counts only as one try if they input the same number multiple times consecutively.\n"
      ]
    },
    {
      "cell_type": "code",
      "metadata": {
        "id": "aOgjbGApRBiq",
        "outputId": "cccb40a1-d231-44dc-9a3a-238be19a5970",
        "colab": {
          "base_uri": "https://localhost:8080/",
          "height": 289
        }
      },
      "source": [
        "import random\n",
        "\n",
        "print(\"Hi there! Can you guess a number? \")\n",
        "\n",
        "guesses = 0\n",
        "num = random.randint(1, 20)\n",
        "\n",
        "while guesses < 6:\n",
        "  print('Take a guess.') # There are four spaces in front of print.\n",
        "  guess = input()\n",
        "  guess = int(guess)\n",
        "\n",
        "  guesses = guesses + 1\n",
        "\n",
        "  if guess < num:\n",
        "    print('Your guess is too low.')\n",
        "\n",
        "  if guess > num:\n",
        "    print('Your guess is too high.')\n",
        "\n",
        "  if guess == num:\n",
        "    break\n",
        "\n",
        "if guess == num:\n",
        "  guesses = str(guesses)\n",
        "  print('Great! You guessed the number in ' + guesses + ' guesses!')\n",
        "\n",
        "if guess != num:\n",
        "  num = str(num)\n",
        "  print('The number I was thinking of was ' + num + ' Better luck next time! ')"
      ],
      "execution_count": null,
      "outputs": [
        {
          "output_type": "stream",
          "text": [
            "Hi there! Can you guess a number? \n",
            "Take a guess.\n",
            "2\n",
            "Your guess is too low.\n",
            "Take a guess.\n",
            "6\n",
            "Your guess is too low.\n",
            "Take a guess.\n",
            "10\n",
            "Your guess is too low.\n",
            "Take a guess.\n",
            "15\n",
            "Your guess is too high.\n",
            "Take a guess.\n",
            "12\n",
            "Great! You guessed the number in 5 guesses!\n"
          ],
          "name": "stdout"
        }
      ]
    },
    {
      "cell_type": "markdown",
      "metadata": {
        "id": "3Au85EE3UPlr"
      },
      "source": [
        "Write a program that prints the next 20 leap years."
      ]
    },
    {
      "cell_type": "code",
      "metadata": {
        "id": "ipIB3SYoUSCg",
        "outputId": "1adf1c7a-4641-4f94-9bf2-e95a80a3ae7a",
        "colab": {
          "base_uri": "https://localhost:8080/",
          "height": 34
        }
      },
      "source": [
        "def find_leap_years(given_year):\n",
        "   count=0\n",
        "   list_of_leap_years=[]\n",
        "       \n",
        "   while count < 20:\n",
        "\n",
        "       if (given_year%4==0 or given_year%400==0 and given_year%100==0):\n",
        "           list_of_leap_years.append(given_year)\n",
        "           count=count+1\n",
        "       given_year=given_year+1\n",
        "\n",
        "   return list_of_leap_years\n",
        "\n",
        "list_of_leap_years = find_leap_years(2020)\n",
        "\n",
        "print(list_of_leap_years)\n"
      ],
      "execution_count": null,
      "outputs": [
        {
          "output_type": "stream",
          "text": [
            "[2020, 2024, 2028, 2032, 2036, 2040, 2044, 2048, 2052, 2056, 2060, 2064, 2068, 2072, 2076, 2080, 2084, 2088, 2092, 2096]\n"
          ],
          "name": "stdout"
        }
      ]
    },
    {
      "cell_type": "markdown",
      "metadata": {
        "id": "RAj9cv-BmIWD"
      },
      "source": [
        "Write a program that computes the sum of an alternating series where each element of the series is an expression of the form ((-1)^{k+1})/(2 * k-1) for each value of k from 1 to a million, multiplied by 4. Or, in more mathematical notation:\n",
        "4\\cdot \\sum_{k=1}^{10^6} \\frac{(-1)^{k+1}}{2k-1} = 4\\cdot(1-1/3+1/5-1/7+1/9-1/11\\ldots)."
      ]
    },
    {
      "cell_type": "code",
      "metadata": {
        "id": "_gwYKEmFmI6C"
      },
      "source": [
        ""
      ],
      "execution_count": null,
      "outputs": []
    }
  ]
}